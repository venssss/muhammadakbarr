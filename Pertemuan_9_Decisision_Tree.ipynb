{
  "cells": [
    {
      "cell_type": "markdown",
      "metadata": {
        "id": "view-in-github",
        "colab_type": "text"
      },
      "source": [
        "<a href=\"https://colab.research.google.com/github/Alfian1706/Tugas_2_AVD_221031001/blob/main/Pertemuan_9_Decisision_Tree.ipynb\" target=\"_parent\"><img src=\"https://colab.research.google.com/assets/colab-badge.svg\" alt=\"Open In Colab\"/></a>"
      ]
    },
    {
      "cell_type": "markdown",
      "metadata": {
        "id": "acyx_PgI4d7f"
      },
      "source": [
        "**Install scikit-learn** bagi yang belum instalasi"
      ]
    },
    {
      "cell_type": "code",
      "execution_count": 1,
      "metadata": {
        "id": "1CsHlSJc5Inl",
        "colab": {
          "base_uri": "https://localhost:8080/"
        },
        "outputId": "4c985f0c-8e41-48a2-b937-2613d94622dd"
      },
      "outputs": [
        {
          "output_type": "stream",
          "name": "stdout",
          "text": [
            "Requirement already satisfied: scikit-learn in /usr/local/lib/python3.11/dist-packages (1.6.1)\n",
            "Requirement already satisfied: numpy>=1.19.5 in /usr/local/lib/python3.11/dist-packages (from scikit-learn) (2.0.2)\n",
            "Requirement already satisfied: scipy>=1.6.0 in /usr/local/lib/python3.11/dist-packages (from scikit-learn) (1.14.1)\n",
            "Requirement already satisfied: joblib>=1.2.0 in /usr/local/lib/python3.11/dist-packages (from scikit-learn) (1.4.2)\n",
            "Requirement already satisfied: threadpoolctl>=3.1.0 in /usr/local/lib/python3.11/dist-packages (from scikit-learn) (3.6.0)\n"
          ]
        }
      ],
      "source": [
        "!pip install scikit-learn"
      ]
    },
    {
      "cell_type": "code",
      "execution_count": null,
      "metadata": {
        "id": "qW71srEq02R9",
        "outputId": "73c489d5-2158-4a08-9f17-c3c20be8923e"
      },
      "outputs": [
        {
          "name": "stdout",
          "output_type": "stream",
          "text": [
            "Requirement already satisfied: numpy in c:\\users\\lenovo\\appdata\\local\\packages\\pythonsoftwarefoundation.python.3.11_qbz5n2kfra8p0\\localcache\\local-packages\\python311\\site-packages (2.2.4)\n"
          ]
        },
        {
          "name": "stderr",
          "output_type": "stream",
          "text": [
            "\n",
            "[notice] A new release of pip is available: 24.0 -> 25.0.1\n",
            "[notice] To update, run: C:\\Users\\LENOVO\\AppData\\Local\\Microsoft\\WindowsApps\\PythonSoftwareFoundation.Python.3.11_qbz5n2kfra8p0\\python.exe -m pip install --upgrade pip\n"
          ]
        }
      ],
      "source": [
        "!pip install numpy"
      ]
    },
    {
      "cell_type": "code",
      "execution_count": null,
      "metadata": {
        "id": "kj-wVLwh02R9",
        "outputId": "72b10956-58fe-4315-b91a-a194621de82f"
      },
      "outputs": [
        {
          "name": "stdout",
          "output_type": "stream",
          "text": [
            "Requirement already satisfied: pandas in c:\\users\\lenovo\\appdata\\local\\packages\\pythonsoftwarefoundation.python.3.11_qbz5n2kfra8p0\\localcache\\local-packages\\python311\\site-packages (2.2.3)\n",
            "Requirement already satisfied: numpy>=1.23.2 in c:\\users\\lenovo\\appdata\\local\\packages\\pythonsoftwarefoundation.python.3.11_qbz5n2kfra8p0\\localcache\\local-packages\\python311\\site-packages (from pandas) (2.2.4)\n",
            "Requirement already satisfied: python-dateutil>=2.8.2 in c:\\users\\lenovo\\appdata\\local\\packages\\pythonsoftwarefoundation.python.3.11_qbz5n2kfra8p0\\localcache\\local-packages\\python311\\site-packages (from pandas) (2.9.0.post0)\n",
            "Requirement already satisfied: pytz>=2020.1 in c:\\users\\lenovo\\appdata\\local\\packages\\pythonsoftwarefoundation.python.3.11_qbz5n2kfra8p0\\localcache\\local-packages\\python311\\site-packages (from pandas) (2025.1)\n",
            "Requirement already satisfied: tzdata>=2022.7 in c:\\users\\lenovo\\appdata\\local\\packages\\pythonsoftwarefoundation.python.3.11_qbz5n2kfra8p0\\localcache\\local-packages\\python311\\site-packages (from pandas) (2025.2)\n",
            "Requirement already satisfied: six>=1.5 in c:\\users\\lenovo\\appdata\\local\\packages\\pythonsoftwarefoundation.python.3.11_qbz5n2kfra8p0\\localcache\\local-packages\\python311\\site-packages (from python-dateutil>=2.8.2->pandas) (1.17.0)\n"
          ]
        },
        {
          "name": "stderr",
          "output_type": "stream",
          "text": [
            "\n",
            "[notice] A new release of pip is available: 24.0 -> 25.0.1\n",
            "[notice] To update, run: C:\\Users\\LENOVO\\AppData\\Local\\Microsoft\\WindowsApps\\PythonSoftwareFoundation.Python.3.11_qbz5n2kfra8p0\\python.exe -m pip install --upgrade pip\n"
          ]
        }
      ],
      "source": [
        "!pip install pandas"
      ]
    },
    {
      "cell_type": "markdown",
      "metadata": {
        "id": "na9gNvuf5Nx1"
      },
      "source": [
        "Memanggil semua package yang akan digunakan"
      ]
    },
    {
      "cell_type": "code",
      "execution_count": null,
      "metadata": {
        "id": "g2045A845Cwt"
      },
      "outputs": [],
      "source": [
        "import sys\n",
        "import numpy as np\n",
        "import pandas as pd\n",
        "import sklearn.tree as tree"
      ]
    },
    {
      "cell_type": "markdown",
      "metadata": {
        "id": "i6z2NTcj5T2f"
      },
      "source": [
        "Load data set, dengan cara upload terlebih dahulu ke drive google collab"
      ]
    },
    {
      "cell_type": "code",
      "execution_count": null,
      "metadata": {
        "colab": {
          "base_uri": "https://localhost:8080/",
          "height": 206
        },
        "id": "ueqoHgTi5bEC",
        "outputId": "efbeebc6-d348-4601-d72b-5af9e4034a75"
      },
      "outputs": [
        {
          "data": {
            "text/html": [
              "<div>\n",
              "<style scoped>\n",
              "    .dataframe tbody tr th:only-of-type {\n",
              "        vertical-align: middle;\n",
              "    }\n",
              "\n",
              "    .dataframe tbody tr th {\n",
              "        vertical-align: top;\n",
              "    }\n",
              "\n",
              "    .dataframe thead th {\n",
              "        text-align: right;\n",
              "    }\n",
              "</style>\n",
              "<table border=\"1\" class=\"dataframe\">\n",
              "  <thead>\n",
              "    <tr style=\"text-align: right;\">\n",
              "      <th></th>\n",
              "      <th>daerah</th>\n",
              "      <th>masa_jabatan</th>\n",
              "      <th>umur</th>\n",
              "      <th>perkawinan</th>\n",
              "      <th>alamat</th>\n",
              "      <th>income</th>\n",
              "      <th>pendidikan</th>\n",
              "      <th>pekerjaan</th>\n",
              "      <th>pensiun</th>\n",
              "      <th>jk</th>\n",
              "      <th>tinggal</th>\n",
              "      <th>custcat</th>\n",
              "    </tr>\n",
              "  </thead>\n",
              "  <tbody>\n",
              "    <tr>\n",
              "      <th>0</th>\n",
              "      <td>2</td>\n",
              "      <td>13</td>\n",
              "      <td>44</td>\n",
              "      <td>1</td>\n",
              "      <td>9</td>\n",
              "      <td>64</td>\n",
              "      <td>4</td>\n",
              "      <td>5</td>\n",
              "      <td>0</td>\n",
              "      <td>0</td>\n",
              "      <td>2</td>\n",
              "      <td>1</td>\n",
              "    </tr>\n",
              "    <tr>\n",
              "      <th>1</th>\n",
              "      <td>3</td>\n",
              "      <td>11</td>\n",
              "      <td>33</td>\n",
              "      <td>1</td>\n",
              "      <td>7</td>\n",
              "      <td>136</td>\n",
              "      <td>5</td>\n",
              "      <td>5</td>\n",
              "      <td>0</td>\n",
              "      <td>0</td>\n",
              "      <td>6</td>\n",
              "      <td>4</td>\n",
              "    </tr>\n",
              "    <tr>\n",
              "      <th>2</th>\n",
              "      <td>3</td>\n",
              "      <td>68</td>\n",
              "      <td>52</td>\n",
              "      <td>1</td>\n",
              "      <td>24</td>\n",
              "      <td>116</td>\n",
              "      <td>1</td>\n",
              "      <td>29</td>\n",
              "      <td>0</td>\n",
              "      <td>1</td>\n",
              "      <td>2</td>\n",
              "      <td>3</td>\n",
              "    </tr>\n",
              "    <tr>\n",
              "      <th>3</th>\n",
              "      <td>2</td>\n",
              "      <td>33</td>\n",
              "      <td>33</td>\n",
              "      <td>0</td>\n",
              "      <td>12</td>\n",
              "      <td>33</td>\n",
              "      <td>2</td>\n",
              "      <td>0</td>\n",
              "      <td>0</td>\n",
              "      <td>1</td>\n",
              "      <td>1</td>\n",
              "      <td>1</td>\n",
              "    </tr>\n",
              "    <tr>\n",
              "      <th>4</th>\n",
              "      <td>2</td>\n",
              "      <td>23</td>\n",
              "      <td>30</td>\n",
              "      <td>1</td>\n",
              "      <td>9</td>\n",
              "      <td>30</td>\n",
              "      <td>1</td>\n",
              "      <td>2</td>\n",
              "      <td>0</td>\n",
              "      <td>0</td>\n",
              "      <td>4</td>\n",
              "      <td>3</td>\n",
              "    </tr>\n",
              "  </tbody>\n",
              "</table>\n",
              "</div>"
            ],
            "text/plain": [
              "   daerah  masa_jabatan  umur  perkawinan  alamat  income  pendidikan  \\\n",
              "0       2            13    44           1       9      64           4   \n",
              "1       3            11    33           1       7     136           5   \n",
              "2       3            68    52           1      24     116           1   \n",
              "3       2            33    33           0      12      33           2   \n",
              "4       2            23    30           1       9      30           1   \n",
              "\n",
              "   pekerjaan  pensiun  jk  tinggal  custcat  \n",
              "0          5        0   0        2        1  \n",
              "1          5        0   0        6        4  \n",
              "2         29        0   1        2        3  \n",
              "3          0        0   1        1        1  \n",
              "4          2        0   0        4        3  "
            ]
          },
          "execution_count": 25,
          "metadata": {},
          "output_type": "execute_result"
        }
      ],
      "source": [
        "df = pd.read_csv('teleCust1000t.csv')\n",
        "df.head()"
      ]
    },
    {
      "cell_type": "markdown",
      "metadata": {
        "id": "k1fOy9Uk6hyu"
      },
      "source": [
        "**Lakukan visualisasi data terlebih dahulu untuk mengeksplorasi data**"
      ]
    },
    {
      "cell_type": "code",
      "execution_count": null,
      "metadata": {
        "colab": {
          "base_uri": "https://localhost:8080/",
          "height": 272
        },
        "id": "Cyk3azAu6mHV",
        "outputId": "3dd5abf1-f46f-4ac9-ed4f-44de3fa619aa"
      },
      "outputs": [
        {
          "data": {
            "text/plain": [
              "custcat\n",
              "3    281\n",
              "1    266\n",
              "4    236\n",
              "2    217\n",
              "Name: count, dtype: int64"
            ]
          },
          "execution_count": 32,
          "metadata": {},
          "output_type": "execute_result"
        }
      ],
      "source": [
        "df['custcat'].value_counts()"
      ]
    },
    {
      "cell_type": "markdown",
      "metadata": {
        "id": "14atjUfC7cdv"
      },
      "source": [
        "Membuat histogram beberapa variabel bebas"
      ]
    },
    {
      "cell_type": "code",
      "execution_count": null,
      "metadata": {
        "colab": {
          "base_uri": "https://localhost:8080/"
        },
        "id": "v00afO4g7oWl",
        "outputId": "9a9bf02a-1453-4908-e5cd-35e0a964b121"
      },
      "outputs": [
        {
          "name": "stdout",
          "output_type": "stream",
          "text": [
            "<class 'pandas.core.frame.DataFrame'>\n",
            "RangeIndex: 1000 entries, 0 to 999\n",
            "Data columns (total 12 columns):\n",
            " #   Column        Non-Null Count  Dtype\n",
            "---  ------        --------------  -----\n",
            " 0   daerah        1000 non-null   int64\n",
            " 1   masa_jabatan  1000 non-null   int64\n",
            " 2   umur          1000 non-null   int64\n",
            " 3   perkawinan    1000 non-null   int64\n",
            " 4   alamat        1000 non-null   int64\n",
            " 5   income        1000 non-null   int64\n",
            " 6   pendidikan    1000 non-null   int64\n",
            " 7   pekerjaan     1000 non-null   int64\n",
            " 8   pensiun       1000 non-null   int64\n",
            " 9   jk            1000 non-null   int64\n",
            " 10  tinggal       1000 non-null   int64\n",
            " 11  custcat       1000 non-null   int64\n",
            "dtypes: int64(12)\n",
            "memory usage: 93.9 KB\n"
          ]
        }
      ],
      "source": [
        "df.info()"
      ]
    },
    {
      "cell_type": "code",
      "execution_count": null,
      "metadata": {
        "id": "KCA6c0rn02R_",
        "outputId": "d368eac3-cc8a-4cdb-8746-0844d543d2e4"
      },
      "outputs": [
        {
          "name": "stdout",
          "output_type": "stream",
          "text": [
            "Collecting matplotlib\n",
            "  Downloading matplotlib-3.10.1-cp311-cp311-win_amd64.whl.metadata (11 kB)\n",
            "Collecting contourpy>=1.0.1 (from matplotlib)\n",
            "  Downloading contourpy-1.3.1-cp311-cp311-win_amd64.whl.metadata (5.4 kB)\n",
            "Collecting cycler>=0.10 (from matplotlib)\n",
            "  Downloading cycler-0.12.1-py3-none-any.whl.metadata (3.8 kB)\n",
            "Collecting fonttools>=4.22.0 (from matplotlib)\n",
            "  Downloading fonttools-4.56.0-cp311-cp311-win_amd64.whl.metadata (103 kB)\n",
            "     ---------------------------------------- 0.0/104.0 kB ? eta -:--:--\n",
            "     ----------- ---------------------------- 30.7/104.0 kB ? eta -:--:--\n",
            "     -------------- ---------------------- 41.0/104.0 kB 393.8 kB/s eta 0:00:01\n",
            "     --------------------- --------------- 61.4/104.0 kB 365.7 kB/s eta 0:00:01\n",
            "     ------------------------------------ 104.0/104.0 kB 501.2 kB/s eta 0:00:00\n",
            "Collecting kiwisolver>=1.3.1 (from matplotlib)\n",
            "  Downloading kiwisolver-1.4.8-cp311-cp311-win_amd64.whl.metadata (6.3 kB)\n",
            "Requirement already satisfied: numpy>=1.23 in c:\\users\\lenovo\\appdata\\local\\packages\\pythonsoftwarefoundation.python.3.11_qbz5n2kfra8p0\\localcache\\local-packages\\python311\\site-packages (from matplotlib) (2.2.4)\n",
            "Requirement already satisfied: packaging>=20.0 in c:\\users\\lenovo\\appdata\\local\\packages\\pythonsoftwarefoundation.python.3.11_qbz5n2kfra8p0\\localcache\\local-packages\\python311\\site-packages (from matplotlib) (24.2)\n",
            "Collecting pillow>=8 (from matplotlib)\n",
            "  Downloading pillow-11.1.0-cp311-cp311-win_amd64.whl.metadata (9.3 kB)\n",
            "Collecting pyparsing>=2.3.1 (from matplotlib)\n",
            "  Downloading pyparsing-3.2.1-py3-none-any.whl.metadata (5.0 kB)\n",
            "Requirement already satisfied: python-dateutil>=2.7 in c:\\users\\lenovo\\appdata\\local\\packages\\pythonsoftwarefoundation.python.3.11_qbz5n2kfra8p0\\localcache\\local-packages\\python311\\site-packages (from matplotlib) (2.9.0.post0)\n",
            "Requirement already satisfied: six>=1.5 in c:\\users\\lenovo\\appdata\\local\\packages\\pythonsoftwarefoundation.python.3.11_qbz5n2kfra8p0\\localcache\\local-packages\\python311\\site-packages (from python-dateutil>=2.7->matplotlib) (1.17.0)\n",
            "Downloading matplotlib-3.10.1-cp311-cp311-win_amd64.whl (8.1 MB)\n",
            "   ---------------------------------------- 0.0/8.1 MB ? eta -:--:--\n",
            "   ---------------------------------------- 0.1/8.1 MB 2.0 MB/s eta 0:00:05\n",
            "    --------------------------------------- 0.1/8.1 MB 1.5 MB/s eta 0:00:06\n",
            "    --------------------------------------- 0.1/8.1 MB 1.4 MB/s eta 0:00:06\n",
            "   - -------------------------------------- 0.2/8.1 MB 1.1 MB/s eta 0:00:07\n",
            "   - -------------------------------------- 0.2/8.1 MB 1.1 MB/s eta 0:00:07\n",
            "   - -------------------------------------- 0.2/8.1 MB 981.9 kB/s eta 0:00:08\n",
            "   - -------------------------------------- 0.2/8.1 MB 846.9 kB/s eta 0:00:10\n",
            "   - -------------------------------------- 0.3/8.1 MB 893.0 kB/s eta 0:00:09\n",
            "   - -------------------------------------- 0.4/8.1 MB 995.6 kB/s eta 0:00:08\n",
            "   -- ------------------------------------- 0.5/8.1 MB 1.0 MB/s eta 0:00:08\n",
            "   -- ------------------------------------- 0.5/8.1 MB 1.0 MB/s eta 0:00:08\n",
            "   -- ------------------------------------- 0.5/8.1 MB 912.9 kB/s eta 0:00:09\n",
            "   -- ------------------------------------- 0.6/8.1 MB 982.6 kB/s eta 0:00:08\n",
            "   --- ------------------------------------ 0.6/8.1 MB 990.5 kB/s eta 0:00:08\n",
            "   --- ------------------------------------ 0.7/8.1 MB 1.0 MB/s eta 0:00:08\n",
            "   --- ------------------------------------ 0.7/8.1 MB 1.0 MB/s eta 0:00:08\n",
            "   --- ------------------------------------ 0.7/8.1 MB 1.0 MB/s eta 0:00:08\n",
            "   --- ------------------------------------ 0.7/8.1 MB 1.0 MB/s eta 0:00:08\n",
            "   --- ------------------------------------ 0.7/8.1 MB 1.0 MB/s eta 0:00:08\n",
            "   --- ------------------------------------ 0.7/8.1 MB 766.3 kB/s eta 0:00:10\n",
            "   --- ------------------------------------ 0.7/8.1 MB 766.3 kB/s eta 0:00:10\n",
            "   --- ------------------------------------ 0.7/8.1 MB 766.3 kB/s eta 0:00:10\n",
            "   --- ------------------------------------ 0.7/8.1 MB 766.3 kB/s eta 0:00:10\n",
            "   --- ------------------------------------ 0.7/8.1 MB 766.3 kB/s eta 0:00:10\n",
            "   --- ------------------------------------ 0.8/8.1 MB 691.0 kB/s eta 0:00:11\n",
            "   --- ------------------------------------ 0.8/8.1 MB 691.0 kB/s eta 0:00:11\n",
            "   --- ------------------------------------ 0.8/8.1 MB 691.0 kB/s eta 0:00:11\n",
            "   --- ------------------------------------ 0.8/8.1 MB 691.0 kB/s eta 0:00:11\n",
            "   ---- ----------------------------------- 0.8/8.1 MB 594.3 kB/s eta 0:00:13\n",
            "   ---- ----------------------------------- 0.9/8.1 MB 619.3 kB/s eta 0:00:12\n",
            "   ---- ----------------------------------- 0.9/8.1 MB 619.3 kB/s eta 0:00:12\n",
            "   ---- ----------------------------------- 1.0/8.1 MB 662.2 kB/s eta 0:00:11\n",
            "   ----- ---------------------------------- 1.0/8.1 MB 662.2 kB/s eta 0:00:11\n",
            "   ----- ---------------------------------- 1.1/8.1 MB 680.5 kB/s eta 0:00:11\n",
            "   ----- ---------------------------------- 1.2/8.1 MB 705.1 kB/s eta 0:00:10\n",
            "   ------ --------------------------------- 1.2/8.1 MB 721.5 kB/s eta 0:00:10\n",
            "   ------ --------------------------------- 1.4/8.1 MB 795.8 kB/s eta 0:00:09\n",
            "   ------ --------------------------------- 1.4/8.1 MB 795.8 kB/s eta 0:00:09\n",
            "   ------- -------------------------------- 1.4/8.1 MB 767.4 kB/s eta 0:00:09\n",
            "   ------- -------------------------------- 1.5/8.1 MB 798.3 kB/s eta 0:00:09\n",
            "   ------- -------------------------------- 1.5/8.1 MB 798.3 kB/s eta 0:00:09\n",
            "   ------- -------------------------------- 1.6/8.1 MB 790.5 kB/s eta 0:00:09\n",
            "   ------- -------------------------------- 1.6/8.1 MB 790.5 kB/s eta 0:00:09\n",
            "   ------- -------------------------------- 1.6/8.1 MB 790.5 kB/s eta 0:00:09\n",
            "   ------- -------------------------------- 1.6/8.1 MB 790.5 kB/s eta 0:00:09\n",
            "   ------- -------------------------------- 1.6/8.1 MB 790.5 kB/s eta 0:00:09\n",
            "   ------- -------------------------------- 1.6/8.1 MB 790.5 kB/s eta 0:00:09\n",
            "   ------- -------------------------------- 1.6/8.1 MB 790.5 kB/s eta 0:00:09\n",
            "   -------- ------------------------------- 1.6/8.1 MB 713.3 kB/s eta 0:00:09\n",
            "   -------- ------------------------------- 1.7/8.1 MB 720.8 kB/s eta 0:00:09\n",
            "   -------- ------------------------------- 1.7/8.1 MB 720.8 kB/s eta 0:00:09\n",
            "   -------- ------------------------------- 1.7/8.1 MB 720.8 kB/s eta 0:00:09\n",
            "   -------- ------------------------------- 1.8/8.1 MB 708.6 kB/s eta 0:00:09\n",
            "   --------- ------------------------------ 1.8/8.1 MB 703.1 kB/s eta 0:00:09\n",
            "   --------- ------------------------------ 1.9/8.1 MB 729.5 kB/s eta 0:00:09\n",
            "   --------- ------------------------------ 1.9/8.1 MB 732.8 kB/s eta 0:00:09\n",
            "   ---------- ----------------------------- 2.1/8.1 MB 753.2 kB/s eta 0:00:08\n",
            "   ---------- ----------------------------- 2.1/8.1 MB 753.2 kB/s eta 0:00:08\n",
            "   ---------- ----------------------------- 2.2/8.1 MB 778.5 kB/s eta 0:00:08\n",
            "   ----------- ---------------------------- 2.3/8.1 MB 787.1 kB/s eta 0:00:08\n",
            "   ----------- ---------------------------- 2.4/8.1 MB 809.5 kB/s eta 0:00:08\n",
            "   ------------ --------------------------- 2.5/8.1 MB 827.8 kB/s eta 0:00:07\n",
            "   ------------ --------------------------- 2.5/8.1 MB 827.8 kB/s eta 0:00:07\n",
            "   ------------ --------------------------- 2.5/8.1 MB 820.0 kB/s eta 0:00:07\n",
            "   ------------ --------------------------- 2.6/8.1 MB 824.1 kB/s eta 0:00:07\n",
            "   ------------ --------------------------- 2.6/8.1 MB 824.1 kB/s eta 0:00:07\n",
            "   ------------ --------------------------- 2.6/8.1 MB 815.9 kB/s eta 0:00:07\n",
            "   ------------ --------------------------- 2.6/8.1 MB 815.9 kB/s eta 0:00:07\n",
            "   ------------- -------------------------- 2.6/8.1 MB 805.8 kB/s eta 0:00:07\n",
            "   ------------- -------------------------- 2.6/8.1 MB 805.8 kB/s eta 0:00:07\n",
            "   ------------- -------------------------- 2.7/8.1 MB 787.7 kB/s eta 0:00:07\n",
            "   ------------- -------------------------- 2.8/8.1 MB 801.2 kB/s eta 0:00:07\n",
            "   -------------- ------------------------- 2.9/8.1 MB 815.5 kB/s eta 0:00:07\n",
            "   -------------- ------------------------- 2.9/8.1 MB 815.5 kB/s eta 0:00:07\n",
            "   -------------- ------------------------- 2.9/8.1 MB 815.5 kB/s eta 0:00:07\n",
            "   -------------- ------------------------- 2.9/8.1 MB 815.5 kB/s eta 0:00:07\n",
            "   -------------- ------------------------- 2.9/8.1 MB 815.5 kB/s eta 0:00:07\n",
            "   -------------- ------------------------- 2.9/8.1 MB 815.5 kB/s eta 0:00:07\n",
            "   -------------- ------------------------- 2.9/8.1 MB 815.5 kB/s eta 0:00:07\n",
            "   -------------- ------------------------- 2.9/8.1 MB 815.5 kB/s eta 0:00:07\n",
            "   -------------- ------------------------- 2.9/8.1 MB 815.5 kB/s eta 0:00:07\n",
            "   -------------- ------------------------- 2.9/8.1 MB 815.5 kB/s eta 0:00:07\n",
            "   -------------- ------------------------- 2.9/8.1 MB 730.1 kB/s eta 0:00:08\n",
            "   -------------- ------------------------- 2.9/8.1 MB 730.1 kB/s eta 0:00:08\n",
            "   -------------- ------------------------- 2.9/8.1 MB 730.1 kB/s eta 0:00:08\n",
            "   -------------- ------------------------- 2.9/8.1 MB 730.1 kB/s eta 0:00:08\n",
            "   -------------- ------------------------- 2.9/8.1 MB 730.1 kB/s eta 0:00:08\n",
            "   -------------- ------------------------- 2.9/8.1 MB 730.1 kB/s eta 0:00:08\n",
            "   -------------- ------------------------- 3.0/8.1 MB 701.1 kB/s eta 0:00:08\n",
            "   -------------- ------------------------- 3.0/8.1 MB 701.1 kB/s eta 0:00:08\n",
            "   -------------- ------------------------- 3.0/8.1 MB 701.1 kB/s eta 0:00:08\n",
            "   --------------- ------------------------ 3.1/8.1 MB 701.9 kB/s eta 0:00:08\n",
            "   --------------- ------------------------ 3.1/8.1 MB 701.9 kB/s eta 0:00:08\n",
            "   --------------- ------------------------ 3.1/8.1 MB 691.6 kB/s eta 0:00:08\n",
            "   --------------- ------------------------ 3.2/8.1 MB 691.2 kB/s eta 0:00:08\n",
            "   --------------- ------------------------ 3.2/8.1 MB 690.8 kB/s eta 0:00:08\n",
            "   --------------- ------------------------ 3.2/8.1 MB 690.8 kB/s eta 0:00:08\n",
            "   --------------- ------------------------ 3.2/8.1 MB 681.5 kB/s eta 0:00:08\n",
            "   ---------------- ----------------------- 3.3/8.1 MB 689.7 kB/s eta 0:00:07\n",
            "   ---------------- ----------------------- 3.3/8.1 MB 689.7 kB/s eta 0:00:07\n",
            "   ---------------- ----------------------- 3.4/8.1 MB 691.1 kB/s eta 0:00:07\n",
            "   ----------------- ---------------------- 3.4/8.1 MB 697.1 kB/s eta 0:00:07\n",
            "   ----------------- ---------------------- 3.5/8.1 MB 692.4 kB/s eta 0:00:07\n",
            "   ----------------- ---------------------- 3.5/8.1 MB 692.1 kB/s eta 0:00:07\n",
            "   ----------------- ---------------------- 3.6/8.1 MB 701.8 kB/s eta 0:00:07\n",
            "   ----------------- ---------------------- 3.6/8.1 MB 703.8 kB/s eta 0:00:07\n",
            "   ------------------ --------------------- 3.6/8.1 MB 702.9 kB/s eta 0:00:07\n",
            "   ------------------ --------------------- 3.6/8.1 MB 702.9 kB/s eta 0:00:07\n",
            "   ------------------ --------------------- 3.7/8.1 MB 694.2 kB/s eta 0:00:07\n",
            "   ------------------ --------------------- 3.7/8.1 MB 699.6 kB/s eta 0:00:07\n",
            "   ------------------ --------------------- 3.8/8.1 MB 703.0 kB/s eta 0:00:07\n",
            "   ------------------ --------------------- 3.8/8.1 MB 703.0 kB/s eta 0:00:07\n",
            "   ------------------- -------------------- 3.9/8.1 MB 708.0 kB/s eta 0:00:06\n",
            "   ------------------- -------------------- 3.9/8.1 MB 711.0 kB/s eta 0:00:06\n",
            "   ------------------- -------------------- 4.0/8.1 MB 712.6 kB/s eta 0:00:06\n",
            "   ------------------- -------------------- 4.0/8.1 MB 712.6 kB/s eta 0:00:06\n",
            "   ------------------- -------------------- 4.0/8.1 MB 709.8 kB/s eta 0:00:06\n",
            "   ------------------- -------------------- 4.0/8.1 MB 709.8 kB/s eta 0:00:06\n",
            "   -------------------- ------------------- 4.1/8.1 MB 705.2 kB/s eta 0:00:06\n",
            "   -------------------- ------------------- 4.1/8.1 MB 705.2 kB/s eta 0:00:06\n",
            "   -------------------- ------------------- 4.1/8.1 MB 705.2 kB/s eta 0:00:06\n",
            "   -------------------- ------------------- 4.1/8.1 MB 693.6 kB/s eta 0:00:06\n",
            "   -------------------- ------------------- 4.2/8.1 MB 698.2 kB/s eta 0:00:06\n",
            "   --------------------- ------------------ 4.3/8.1 MB 713.1 kB/s eta 0:00:06\n",
            "   --------------------- ------------------ 4.4/8.1 MB 716.0 kB/s eta 0:00:06\n",
            "   --------------------- ------------------ 4.4/8.1 MB 718.9 kB/s eta 0:00:06\n",
            "   ---------------------- ----------------- 4.4/8.1 MB 716.5 kB/s eta 0:00:06\n",
            "   ---------------------- ----------------- 4.5/8.1 MB 726.5 kB/s eta 0:00:05\n",
            "   ---------------------- ----------------- 4.6/8.1 MB 725.6 kB/s eta 0:00:05\n",
            "   ---------------------- ----------------- 4.6/8.1 MB 725.6 kB/s eta 0:00:05\n",
            "   ---------------------- ----------------- 4.6/8.1 MB 725.6 kB/s eta 0:00:05\n",
            "   ----------------------- ---------------- 4.6/8.1 MB 720.7 kB/s eta 0:00:05\n",
            "   ----------------------- ---------------- 4.7/8.1 MB 720.4 kB/s eta 0:00:05\n",
            "   ----------------------- ---------------- 4.7/8.1 MB 727.8 kB/s eta 0:00:05\n",
            "   ----------------------- ---------------- 4.8/8.1 MB 722.3 kB/s eta 0:00:05\n",
            "   ----------------------- ---------------- 4.8/8.1 MB 721.8 kB/s eta 0:00:05\n",
            "   ------------------------ --------------- 5.0/8.1 MB 741.3 kB/s eta 0:00:05\n",
            "   ------------------------ --------------- 5.0/8.1 MB 742.6 kB/s eta 0:00:05\n",
            "   ------------------------- -------------- 5.1/8.1 MB 753.5 kB/s eta 0:00:04\n",
            "   ------------------------- -------------- 5.2/8.1 MB 764.9 kB/s eta 0:00:04\n",
            "   -------------------------- ------------- 5.3/8.1 MB 771.7 kB/s eta 0:00:04\n",
            "   -------------------------- ------------- 5.3/8.1 MB 771.7 kB/s eta 0:00:04\n",
            "   -------------------------- ------------- 5.3/8.1 MB 771.7 kB/s eta 0:00:04\n",
            "   -------------------------- ------------- 5.3/8.1 MB 771.7 kB/s eta 0:00:04\n",
            "   -------------------------- ------------- 5.3/8.1 MB 771.7 kB/s eta 0:00:04\n",
            "   -------------------------- ------------- 5.3/8.1 MB 771.7 kB/s eta 0:00:04\n",
            "   -------------------------- ------------- 5.3/8.1 MB 739.6 kB/s eta 0:00:04\n",
            "   -------------------------- ------------- 5.4/8.1 MB 743.5 kB/s eta 0:00:04\n",
            "   -------------------------- ------------- 5.4/8.1 MB 745.8 kB/s eta 0:00:04\n",
            "   -------------------------- ------------- 5.4/8.1 MB 742.1 kB/s eta 0:00:04\n",
            "   --------------------------- ------------ 5.5/8.1 MB 739.8 kB/s eta 0:00:04\n",
            "   --------------------------- ------------ 5.5/8.1 MB 742.3 kB/s eta 0:00:04\n",
            "   --------------------------- ------------ 5.5/8.1 MB 740.6 kB/s eta 0:00:04\n",
            "   --------------------------- ------------ 5.5/8.1 MB 740.6 kB/s eta 0:00:04\n",
            "   --------------------------- ------------ 5.6/8.1 MB 736.6 kB/s eta 0:00:04\n",
            "   --------------------------- ------------ 5.6/8.1 MB 740.1 kB/s eta 0:00:04\n",
            "   ---------------------------- ----------- 5.7/8.1 MB 740.0 kB/s eta 0:00:04\n",
            "   ---------------------------- ----------- 5.7/8.1 MB 740.0 kB/s eta 0:00:04\n",
            "   ---------------------------- ----------- 5.7/8.1 MB 732.1 kB/s eta 0:00:04\n",
            "   ---------------------------- ----------- 5.7/8.1 MB 734.6 kB/s eta 0:00:04\n",
            "   ---------------------------- ----------- 5.8/8.1 MB 740.7 kB/s eta 0:00:04\n",
            "   ----------------------------- ---------- 5.9/8.1 MB 746.4 kB/s eta 0:00:03\n",
            "   ----------------------------- ---------- 5.9/8.1 MB 746.4 kB/s eta 0:00:03\n",
            "   ----------------------------- ---------- 6.0/8.1 MB 750.6 kB/s eta 0:00:03\n",
            "   ----------------------------- ---------- 6.0/8.1 MB 750.6 kB/s eta 0:00:03\n",
            "   ----------------------------- ---------- 6.0/8.1 MB 745.5 kB/s eta 0:00:03\n",
            "   ----------------------------- ---------- 6.0/8.1 MB 745.5 kB/s eta 0:00:03\n",
            "   ----------------------------- ---------- 6.0/8.1 MB 745.5 kB/s eta 0:00:03\n",
            "   ------------------------------ --------- 6.1/8.1 MB 735.1 kB/s eta 0:00:03\n",
            "   ------------------------------ --------- 6.1/8.1 MB 735.1 kB/s eta 0:00:03\n",
            "   ------------------------------ --------- 6.1/8.1 MB 726.7 kB/s eta 0:00:03\n",
            "   ------------------------------ --------- 6.1/8.1 MB 726.7 kB/s eta 0:00:03\n",
            "   ------------------------------ --------- 6.1/8.1 MB 729.7 kB/s eta 0:00:03\n",
            "   ------------------------------ --------- 6.2/8.1 MB 733.0 kB/s eta 0:00:03\n",
            "   ------------------------------- -------- 6.3/8.1 MB 738.5 kB/s eta 0:00:03\n",
            "   ------------------------------- -------- 6.3/8.1 MB 741.8 kB/s eta 0:00:03\n",
            "   ------------------------------- -------- 6.4/8.1 MB 738.7 kB/s eta 0:00:03\n",
            "   ------------------------------- -------- 6.4/8.1 MB 738.7 kB/s eta 0:00:03\n",
            "   ------------------------------- -------- 6.4/8.1 MB 739.2 kB/s eta 0:00:03\n",
            "   -------------------------------- ------- 6.5/8.1 MB 739.7 kB/s eta 0:00:03\n",
            "   -------------------------------- ------- 6.5/8.1 MB 739.7 kB/s eta 0:00:03\n",
            "   -------------------------------- ------- 6.5/8.1 MB 735.4 kB/s eta 0:00:03\n",
            "   -------------------------------- ------- 6.6/8.1 MB 736.0 kB/s eta 0:00:03\n",
            "   -------------------------------- ------- 6.6/8.1 MB 737.8 kB/s eta 0:00:02\n",
            "   --------------------------------- ------ 6.7/8.1 MB 746.7 kB/s eta 0:00:02\n",
            "   --------------------------------- ------ 6.8/8.1 MB 754.1 kB/s eta 0:00:02\n",
            "   --------------------------------- ------ 6.8/8.1 MB 754.1 kB/s eta 0:00:02\n",
            "   ---------------------------------- ----- 6.9/8.1 MB 756.4 kB/s eta 0:00:02\n",
            "   ---------------------------------- ----- 7.0/8.1 MB 757.9 kB/s eta 0:00:02\n",
            "   ----------------------------------- ---- 7.1/8.1 MB 769.7 kB/s eta 0:00:02\n",
            "   ----------------------------------- ---- 7.2/8.1 MB 778.0 kB/s eta 0:00:02\n",
            "   ------------------------------------ --- 7.4/8.1 MB 788.4 kB/s eta 0:00:01\n",
            "   ------------------------------------ --- 7.4/8.1 MB 789.0 kB/s eta 0:00:01\n",
            "   ------------------------------------ --- 7.4/8.1 MB 789.0 kB/s eta 0:00:01\n",
            "   ------------------------------------ --- 7.4/8.1 MB 785.1 kB/s eta 0:00:01\n",
            "   ------------------------------------- -- 7.5/8.1 MB 792.0 kB/s eta 0:00:01\n",
            "   ------------------------------------- -- 7.6/8.1 MB 792.6 kB/s eta 0:00:01\n",
            "   ------------------------------------- -- 7.6/8.1 MB 795.4 kB/s eta 0:00:01\n",
            "   -------------------------------------- - 7.7/8.1 MB 797.5 kB/s eta 0:00:01\n",
            "   -------------------------------------- - 7.8/8.1 MB 800.0 kB/s eta 0:00:01\n",
            "   -------------------------------------- - 7.9/8.1 MB 805.7 kB/s eta 0:00:01\n",
            "   -------------------------------------- - 7.9/8.1 MB 805.7 kB/s eta 0:00:01\n",
            "   ---------------------------------------  7.9/8.1 MB 797.9 kB/s eta 0:00:01\n",
            "   ---------------------------------------  7.9/8.1 MB 798.2 kB/s eta 0:00:01\n",
            "   ---------------------------------------  8.0/8.1 MB 798.4 kB/s eta 0:00:01\n",
            "   ---------------------------------------  8.1/8.1 MB 807.4 kB/s eta 0:00:01\n",
            "   ---------------------------------------- 8.1/8.1 MB 805.1 kB/s eta 0:00:00\n",
            "Downloading contourpy-1.3.1-cp311-cp311-win_amd64.whl (219 kB)\n",
            "   ---------------------------------------- 0.0/219.8 kB ? eta -:--:--\n",
            "   -------------------- ------------------- 112.6/219.8 kB ? eta -:--:--\n",
            "   ------------------------------- -------- 174.1/219.8 kB 3.5 MB/s eta 0:00:01\n",
            "   ------------------------------- -------- 174.1/219.8 kB 3.5 MB/s eta 0:00:01\n",
            "   ------------------------------- -------- 174.1/219.8 kB 3.5 MB/s eta 0:00:01\n",
            "   ------------------------------- -------- 174.1/219.8 kB 3.5 MB/s eta 0:00:01\n",
            "   ------------------------------- -------- 174.1/219.8 kB 3.5 MB/s eta 0:00:01\n",
            "   ------------------------------- -------- 174.1/219.8 kB 3.5 MB/s eta 0:00:01\n",
            "   ------------------------------- -------- 174.1/219.8 kB 3.5 MB/s eta 0:00:01\n",
            "   -------------------------------------- 219.8/219.8 kB 558.8 kB/s eta 0:00:00\n",
            "Downloading cycler-0.12.1-py3-none-any.whl (8.3 kB)\n",
            "Downloading fonttools-4.56.0-cp311-cp311-win_amd64.whl (2.2 MB)\n",
            "   ---------------------------------------- 0.0/2.2 MB ? eta -:--:--\n",
            "   - -------------------------------------- 0.1/2.2 MB 1.1 MB/s eta 0:00:02\n",
            "   -- ------------------------------------- 0.1/2.2 MB 2.1 MB/s eta 0:00:01\n",
            "   --- ------------------------------------ 0.2/2.2 MB 1.2 MB/s eta 0:00:02\n",
            "   ---- ----------------------------------- 0.2/2.2 MB 1.4 MB/s eta 0:00:02\n",
            "   ---- ----------------------------------- 0.3/2.2 MB 1.1 MB/s eta 0:00:02\n",
            "   ------ --------------------------------- 0.3/2.2 MB 1.1 MB/s eta 0:00:02\n",
            "   ------ --------------------------------- 0.4/2.2 MB 1.2 MB/s eta 0:00:02\n",
            "   -------- ------------------------------- 0.5/2.2 MB 1.2 MB/s eta 0:00:02\n",
            "   --------- ------------------------------ 0.5/2.2 MB 1.2 MB/s eta 0:00:02\n",
            "   ---------- ----------------------------- 0.6/2.2 MB 1.1 MB/s eta 0:00:02\n",
            "   ---------- ----------------------------- 0.6/2.2 MB 1.1 MB/s eta 0:00:02\n",
            "   ------------ --------------------------- 0.7/2.2 MB 1.2 MB/s eta 0:00:02\n",
            "   -------------- ------------------------- 0.8/2.2 MB 1.3 MB/s eta 0:00:02\n",
            "   --------------- ------------------------ 0.8/2.2 MB 1.2 MB/s eta 0:00:02\n",
            "   ----------------- ---------------------- 0.9/2.2 MB 1.3 MB/s eta 0:00:01\n",
            "   ------------------ --------------------- 1.0/2.2 MB 1.4 MB/s eta 0:00:01\n",
            "   -------------------- ------------------- 1.1/2.2 MB 1.4 MB/s eta 0:00:01\n",
            "   -------------------- ------------------- 1.1/2.2 MB 1.4 MB/s eta 0:00:01\n",
            "   -------------------- ------------------- 1.1/2.2 MB 1.4 MB/s eta 0:00:01\n",
            "   ---------------------- ----------------- 1.2/2.2 MB 1.3 MB/s eta 0:00:01\n",
            "   ----------------------- ---------------- 1.3/2.2 MB 1.3 MB/s eta 0:00:01\n",
            "   ------------------------ --------------- 1.4/2.2 MB 1.3 MB/s eta 0:00:01\n",
            "   -------------------------- ------------- 1.5/2.2 MB 1.3 MB/s eta 0:00:01\n",
            "   --------------------------- ------------ 1.5/2.2 MB 1.3 MB/s eta 0:00:01\n",
            "   ------------------------------ --------- 1.7/2.2 MB 1.4 MB/s eta 0:00:01\n",
            "   ------------------------------ --------- 1.7/2.2 MB 1.3 MB/s eta 0:00:01\n",
            "   ------------------------------ --------- 1.7/2.2 MB 1.3 MB/s eta 0:00:01\n",
            "   -------------------------------- ------- 1.8/2.2 MB 1.3 MB/s eta 0:00:01\n",
            "   -------------------------------- ------- 1.8/2.2 MB 1.3 MB/s eta 0:00:01\n",
            "   ---------------------------------- ----- 1.9/2.2 MB 1.3 MB/s eta 0:00:01\n",
            "   ---------------------------------- ----- 1.9/2.2 MB 1.3 MB/s eta 0:00:01\n",
            "   ----------------------------------- ---- 2.0/2.2 MB 1.2 MB/s eta 0:00:01\n",
            "   ----------------------------------- ---- 2.0/2.2 MB 1.2 MB/s eta 0:00:01\n",
            "   ----------------------------------- ---- 2.0/2.2 MB 1.2 MB/s eta 0:00:01\n",
            "   ----------------------------------- ---- 2.0/2.2 MB 1.2 MB/s eta 0:00:01\n",
            "   ------------------------------------ --- 2.0/2.2 MB 1.1 MB/s eta 0:00:01\n",
            "   ------------------------------------- -- 2.1/2.2 MB 1.1 MB/s eta 0:00:01\n",
            "   ---------------------------------------  2.2/2.2 MB 1.2 MB/s eta 0:00:01\n",
            "   ---------------------------------------- 2.2/2.2 MB 1.2 MB/s eta 0:00:00\n",
            "Downloading kiwisolver-1.4.8-cp311-cp311-win_amd64.whl (71 kB)\n",
            "   ---------------------------------------- 0.0/72.0 kB ? eta -:--:--\n",
            "   ---------------------------------------- 72.0/72.0 kB 2.0 MB/s eta 0:00:00\n",
            "Downloading pillow-11.1.0-cp311-cp311-win_amd64.whl (2.6 MB)\n",
            "   ---------------------------------------- 0.0/2.6 MB ? eta -:--:--\n",
            "    --------------------------------------- 0.1/2.6 MB 3.2 MB/s eta 0:00:01\n",
            "   -- ------------------------------------- 0.1/2.6 MB 2.1 MB/s eta 0:00:02\n",
            "   -- ------------------------------------- 0.2/2.6 MB 1.8 MB/s eta 0:00:02\n",
            "   -- ------------------------------------- 0.2/2.6 MB 1.3 MB/s eta 0:00:02\n",
            "   -- ------------------------------------- 0.2/2.6 MB 1.3 MB/s eta 0:00:02\n",
            "   ---- ----------------------------------- 0.3/2.6 MB 1.2 MB/s eta 0:00:02\n",
            "   ----- ---------------------------------- 0.3/2.6 MB 1.0 MB/s eta 0:00:03\n",
            "   ------ --------------------------------- 0.4/2.6 MB 1.2 MB/s eta 0:00:02\n",
            "   -------- ------------------------------- 0.5/2.6 MB 1.3 MB/s eta 0:00:02\n",
            "   -------- ------------------------------- 0.5/2.6 MB 1.2 MB/s eta 0:00:02\n",
            "   -------- ------------------------------- 0.5/2.6 MB 1.2 MB/s eta 0:00:02\n",
            "   -------- ------------------------------- 0.6/2.6 MB 1.1 MB/s eta 0:00:02\n",
            "   --------- ------------------------------ 0.6/2.6 MB 1.1 MB/s eta 0:00:02\n",
            "   --------- ------------------------------ 0.6/2.6 MB 1.0 MB/s eta 0:00:02\n",
            "   ----------- ---------------------------- 0.7/2.6 MB 1.1 MB/s eta 0:00:02\n",
            "   ------------ --------------------------- 0.8/2.6 MB 1.2 MB/s eta 0:00:02\n",
            "   ------------- -------------------------- 0.9/2.6 MB 1.2 MB/s eta 0:00:02\n",
            "   --------------- ------------------------ 1.0/2.6 MB 1.2 MB/s eta 0:00:02\n",
            "   ----------------- ---------------------- 1.1/2.6 MB 1.3 MB/s eta 0:00:02\n",
            "   ----------------- ---------------------- 1.2/2.6 MB 1.3 MB/s eta 0:00:02\n",
            "   ----------------- ---------------------- 1.2/2.6 MB 1.3 MB/s eta 0:00:02\n",
            "   ----------------- ---------------------- 1.2/2.6 MB 1.3 MB/s eta 0:00:02\n",
            "   ------------------- -------------------- 1.3/2.6 MB 1.2 MB/s eta 0:00:02\n",
            "   ------------------- -------------------- 1.3/2.6 MB 1.2 MB/s eta 0:00:02\n",
            "   -------------------- ------------------- 1.4/2.6 MB 1.2 MB/s eta 0:00:02\n",
            "   -------------------- ------------------- 1.4/2.6 MB 1.2 MB/s eta 0:00:02\n",
            "   -------------------- ------------------- 1.4/2.6 MB 1.2 MB/s eta 0:00:02\n",
            "   -------------------- ------------------- 1.4/2.6 MB 1.2 MB/s eta 0:00:02\n",
            "   ---------------------- ----------------- 1.5/2.6 MB 1.1 MB/s eta 0:00:02\n",
            "   ---------------------- ----------------- 1.5/2.6 MB 1.1 MB/s eta 0:00:02\n",
            "   ---------------------- ----------------- 1.5/2.6 MB 1.1 MB/s eta 0:00:02\n",
            "   ---------------------- ----------------- 1.5/2.6 MB 1.1 MB/s eta 0:00:02\n",
            "   ---------------------- ----------------- 1.5/2.6 MB 1.1 MB/s eta 0:00:02\n",
            "   ------------------------- -------------- 1.7/2.6 MB 1.1 MB/s eta 0:00:01\n",
            "   -------------------------- ------------- 1.7/2.6 MB 1.0 MB/s eta 0:00:01\n",
            "   -------------------------- ------------- 1.7/2.6 MB 1.0 MB/s eta 0:00:01\n",
            "   -------------------------- ------------- 1.8/2.6 MB 1.0 MB/s eta 0:00:01\n",
            "   -------------------------- ------------- 1.8/2.6 MB 1.0 MB/s eta 0:00:01\n",
            "   ---------------------------- ----------- 1.9/2.6 MB 1.0 MB/s eta 0:00:01\n",
            "   ----------------------------- ---------- 1.9/2.6 MB 1.0 MB/s eta 0:00:01\n",
            "   ----------------------------- ---------- 1.9/2.6 MB 1.0 MB/s eta 0:00:01\n",
            "   ----------------------------- ---------- 1.9/2.6 MB 1.0 MB/s eta 0:00:01\n",
            "   ----------------------------- ---------- 1.9/2.6 MB 1.0 MB/s eta 0:00:01\n",
            "   ----------------------------- ---------- 1.9/2.6 MB 1.0 MB/s eta 0:00:01\n",
            "   ----------------------------- ---------- 1.9/2.6 MB 1.0 MB/s eta 0:00:01\n",
            "   ----------------------------- ---------- 1.9/2.6 MB 1.0 MB/s eta 0:00:01\n",
            "   ----------------------------- ---------- 2.0/2.6 MB 876.8 kB/s eta 0:00:01\n",
            "   ----------------------------- ---------- 2.0/2.6 MB 876.8 kB/s eta 0:00:01\n",
            "   ----------------------------- ---------- 2.0/2.6 MB 876.8 kB/s eta 0:00:01\n",
            "   ------------------------------- -------- 2.0/2.6 MB 865.0 kB/s eta 0:00:01\n",
            "   ------------------------------- -------- 2.1/2.6 MB 856.8 kB/s eta 0:00:01\n",
            "   --------------------------------- ------ 2.2/2.6 MB 879.3 kB/s eta 0:00:01\n",
            "   --------------------------------- ------ 2.2/2.6 MB 880.6 kB/s eta 0:00:01\n",
            "   ----------------------------------- ---- 2.3/2.6 MB 904.6 kB/s eta 0:00:01\n",
            "   ----------------------------------- ---- 2.3/2.6 MB 896.1 kB/s eta 0:00:01\n",
            "   ----------------------------------- ---- 2.3/2.6 MB 896.1 kB/s eta 0:00:01\n",
            "   ----------------------------------- ---- 2.3/2.6 MB 896.1 kB/s eta 0:00:01\n",
            "   ----------------------------------- ---- 2.3/2.6 MB 896.1 kB/s eta 0:00:01\n",
            "   ------------------------------------ --- 2.4/2.6 MB 842.0 kB/s eta 0:00:01\n",
            "   ------------------------------------ --- 2.4/2.6 MB 846.1 kB/s eta 0:00:01\n",
            "   ------------------------------------- -- 2.4/2.6 MB 843.0 kB/s eta 0:00:01\n",
            "   -------------------------------------- - 2.5/2.6 MB 846.1 kB/s eta 0:00:01\n",
            "   ---------------------------------------  2.6/2.6 MB 855.6 kB/s eta 0:00:01\n",
            "   ---------------------------------------  2.6/2.6 MB 857.0 kB/s eta 0:00:01\n",
            "   ---------------------------------------- 2.6/2.6 MB 853.9 kB/s eta 0:00:00\n",
            "Downloading pyparsing-3.2.1-py3-none-any.whl (107 kB)\n",
            "   ---------------------------------------- 0.0/107.7 kB ? eta -:--:--\n",
            "   ----------- ---------------------------- 30.7/107.7 kB ? eta -:--:--\n",
            "   ----------- ---------------------------- 30.7/107.7 kB ? eta -:--:--\n",
            "   ------------------------- ------------- 71.7/107.7 kB 491.5 kB/s eta 0:00:01\n",
            "   ------------------------- ------------- 71.7/107.7 kB 491.5 kB/s eta 0:00:01\n",
            "   -------------------------------------- 107.7/107.7 kB 445.1 kB/s eta 0:00:00\n",
            "Installing collected packages: pyparsing, pillow, kiwisolver, fonttools, cycler, contourpy, matplotlib\n",
            "Successfully installed contourpy-1.3.1 cycler-0.12.1 fonttools-4.56.0 kiwisolver-1.4.8 matplotlib-3.10.1 pillow-11.1.0 pyparsing-3.2.1\n"
          ]
        },
        {
          "name": "stderr",
          "output_type": "stream",
          "text": [
            "\n",
            "[notice] A new release of pip is available: 24.0 -> 25.0.1\n",
            "[notice] To update, run: C:\\Users\\LENOVO\\AppData\\Local\\Microsoft\\WindowsApps\\PythonSoftwareFoundation.Python.3.11_qbz5n2kfra8p0\\python.exe -m pip install --upgrade pip\n"
          ]
        }
      ],
      "source": [
        "!pip install matplotlib"
      ]
    },
    {
      "cell_type": "code",
      "execution_count": null,
      "metadata": {
        "id": "oKEwjvCl71-t"
      },
      "outputs": [],
      "source": [
        "import matplotlib.pyplot as plt"
      ]
    },
    {
      "cell_type": "markdown",
      "metadata": {
        "id": "DqiXUUOILx19"
      },
      "source": [
        "Bar Chart Masa jabatan"
      ]
    },
    {
      "cell_type": "code",
      "execution_count": null,
      "metadata": {
        "colab": {
          "base_uri": "https://localhost:8080/"
        },
        "id": "ic_0ZPDOKuhI",
        "outputId": "aab036e1-5293-417b-9f96-119c79255caa"
      },
      "outputs": [
        {
          "name": "stdout",
          "output_type": "stream",
          "text": [
            "    Kategori  Jumlah\n",
            "0         72      31\n",
            "1         48      20\n",
            "2         24      20\n",
            "3          3      20\n",
            "4         13      19\n",
            "..       ...     ...\n",
            "67        47       7\n",
            "68        36       7\n",
            "69         2       7\n",
            "70        21       6\n",
            "71        63       6\n",
            "\n",
            "[72 rows x 2 columns]\n"
          ]
        }
      ],
      "source": [
        "# Tabulasi data\n",
        "tabulasi_masa_jabatan = df['masa_jabatan'].value_counts().reset_index()\n",
        "tabulasi_masa_jabatan.columns = ['Kategori', 'Jumlah']  # Menamai kolom\n",
        "print(tabulasi_masa_jabatan)"
      ]
    },
    {
      "cell_type": "code",
      "execution_count": null,
      "metadata": {
        "colab": {
          "base_uri": "https://localhost:8080/",
          "height": 564
        },
        "id": "8RQHD3Y_KB0D",
        "outputId": "e837c9ee-5a87-43ff-d1ec-3187fc89911a"
      },
      "outputs": [
        {
          "data": {
            "image/png": "[encoded data removed]",
            "text/plain": [
              "<Figure size 800x600 with 1 Axes>"
            ]
          },
          "metadata": {},
          "output_type": "display_data"
        }
      ],
      "source": [
        "# Membuat bar chart\n",
        "plt.figure(figsize=(8, 6))  # Mengatur ukuran gambar\n",
        "plt.bar(tabulasi_masa_jabatan['Kategori'], tabulasi_masa_jabatan['Jumlah'], color='skyblue')  # Membuat bar chart\n",
        "plt.xlabel('Kategori')  # Label sumbu X\n",
        "plt.ylabel('Jumlah')  # Label sumbu Y\n",
        "plt.title('Masa jabatan')  # Judul\n",
        "plt.show()  # Menampilkan grafik"
      ]
    },
    {
      "cell_type": "markdown",
      "metadata": {
        "id": "aKBB3xWsL2oY"
      },
      "source": [
        "Bar Chart Custcat"
      ]
    },
    {
      "cell_type": "code",
      "execution_count": null,
      "metadata": {
        "colab": {
          "base_uri": "https://localhost:8080/"
        },
        "id": "Qs-_G7i06rxN",
        "outputId": "073b29ff-e1fa-4f74-dfd2-e7e5473c105a"
      },
      "outputs": [
        {
          "name": "stdout",
          "output_type": "stream",
          "text": [
            "   Kategori  Jumlah\n",
            "0         3     281\n",
            "1         1     266\n",
            "2         4     236\n",
            "3         2     217\n"
          ]
        }
      ],
      "source": [
        "# Tabulasi data\n",
        "tabulasi_custcat = df['custcat'].value_counts().reset_index()\n",
        "tabulasi_custcat.columns = ['Kategori', 'Jumlah']  # Menamai kolom\n",
        "print(tabulasi_custcat)"
      ]
    },
    {
      "cell_type": "code",
      "execution_count": null,
      "metadata": {
        "colab": {
          "base_uri": "https://localhost:8080/",
          "height": 564
        },
        "id": "sRB1nxLoMc0K",
        "outputId": "00c36860-55ed-441f-c90e-33158f530434"
      },
      "outputs": [
        {
          "data": {
            "image/png": "[encoded data removed]",
            "text/plain": [
              "<Figure size 800x600 with 1 Axes>"
            ]
          },
          "metadata": {},
          "output_type": "display_data"
        }
      ],
      "source": [
        "# Membuat bar chart\n",
        "plt.figure(figsize=(8, 6))  # Mengatur ukuran gambar\n",
        "plt.bar(tabulasi_custcat['Kategori'], tabulasi_custcat['Jumlah'], color='skyblue')  # Membuat bar chart\n",
        "plt.xlabel('Kategori')  # Label sumbu X\n",
        "plt.ylabel('Jumlah')  # Label sumbu Y\n",
        "plt.title('Custcat')  # Judul\n",
        "plt.show()  # Menampilkan grafik"
      ]
    },
    {
      "cell_type": "markdown",
      "metadata": {
        "id": "Eo53t0k-8GVE"
      },
      "source": [
        "**Persiapan Data**"
      ]
    },
    {
      "cell_type": "markdown",
      "metadata": {
        "id": "oUUDLxXu8Mxt"
      },
      "source": [
        "*   Membuat kelompok Feature atau variabel bebas tersendiri\n",
        "*   Membuat kelompok labels atau variabel terikat tersendiri\n",
        "\n"
      ]
    },
    {
      "cell_type": "code",
      "execution_count": null,
      "metadata": {
        "colab": {
          "base_uri": "https://localhost:8080/"
        },
        "id": "YbI-OEZB8RCt",
        "outputId": "a7e16b4f-d980-42a8-c986-3bedd8a56f5f"
      },
      "outputs": [
        {
          "data": {
            "text/plain": [
              "Index(['daerah', 'masa_jabatan', 'umur', 'perkawinan', 'alamat', 'income',\n",
              "       'pendidikan', 'pekerjaan', 'pensiun', 'jk', 'tinggal', 'custcat'],\n",
              "      dtype='object')"
            ]
          },
          "execution_count": 39,
          "metadata": {},
          "output_type": "execute_result"
        }
      ],
      "source": [
        "df.columns"
      ]
    },
    {
      "cell_type": "code",
      "execution_count": null,
      "metadata": {
        "colab": {
          "base_uri": "https://localhost:8080/"
        },
        "id": "PVO4ekqe8YfM",
        "outputId": "71ccdab7-a73b-425e-ea2f-58e6967545e6"
      },
      "outputs": [
        {
          "data": {
            "text/plain": [
              "array([[  2,  13,  44,   1,   9,  64,   4,   5,   0,   0,   2,   1],\n",
              "       [  3,  11,  33,   1,   7, 136,   5,   5,   0,   0,   6,   4],\n",
              "       [  3,  68,  52,   1,  24, 116,   1,  29,   0,   1,   2,   3],\n",
              "       [  2,  33,  33,   0,  12,  33,   2,   0,   0,   1,   1,   1],\n",
              "       [  2,  23,  30,   1,   9,  30,   1,   2,   0,   0,   4,   3]])"
            ]
          },
          "execution_count": 40,
          "metadata": {},
          "output_type": "execute_result"
        }
      ],
      "source": [
        "X = df[['daerah', 'masa_jabatan', 'umur', 'perkawinan', 'alamat', 'income',\n",
        "       'pendidikan', 'pekerjaan', 'pensiun', 'jk', 'tinggal', 'custcat']] .values  #.astype(float)\n",
        "X[0:5]"
      ]
    },
    {
      "cell_type": "code",
      "execution_count": null,
      "metadata": {
        "colab": {
          "base_uri": "https://localhost:8080/"
        },
        "id": "s4jU4aPF8knE",
        "outputId": "b07de35d-790f-4b26-ff98-e227a5a7a3cb"
      },
      "outputs": [
        {
          "data": {
            "text/plain": [
              "array([1, 4, 3, 1, 3])"
            ]
          },
          "execution_count": 41,
          "metadata": {},
          "output_type": "execute_result"
        }
      ],
      "source": [
        "y = df['custcat'].values\n",
        "y[0:5]"
      ]
    },
    {
      "cell_type": "markdown",
      "metadata": {
        "id": "l4RzQBcK9KQM"
      },
      "source": [
        "**Membagi data menjadi data training dan testing**"
      ]
    },
    {
      "cell_type": "markdown",
      "metadata": {
        "id": "bPxO61p_9ZwB"
      },
      "source": [
        "proporsi sebesar 30% data testing, dan 70% data training"
      ]
    },
    {
      "cell_type": "code",
      "execution_count": null,
      "metadata": {
        "colab": {
          "base_uri": "https://localhost:8080/"
        },
        "id": "Ngljzcq29Q9z",
        "outputId": "f7e998ce-750f-4234-9844-ec2bc81d6bb2"
      },
      "outputs": [
        {
          "name": "stdout",
          "output_type": "stream",
          "text": [
            "Train set: (700, 12) (700,)\n",
            "Test set: (300, 12) (300,)\n"
          ]
        }
      ],
      "source": [
        "from sklearn.model_selection import train_test_split\n",
        "X_train, X_tes, y_train, y_tes = train_test_split(X, y, test_size=0.3, random_state=3)\n",
        "print ('Train set:', X_train.shape,  y_train.shape)\n",
        "print ('Test set:', X_tes.shape,  y_tes.shape)"
      ]
    },
    {
      "cell_type": "code",
      "execution_count": null,
      "metadata": {
        "colab": {
          "base_uri": "https://localhost:8080/"
        },
        "id": "uwAPX1EYQY5U",
        "outputId": "1e5bb012-38cb-4731-9a49-edc6e37b09b4"
      },
      "outputs": [
        {
          "data": {
            "text/plain": [
              "array([3, 3, 1, 4, 1, 4, 3, 1, 1, 3, 4, 4, 4, 1, 4, 3, 2, 2, 3, 3, 2, 2,\n",
              "       2, 3, 2, 1, 4, 1, 3, 4, 2, 1, 2, 2, 3, 3, 3, 1, 4, 1, 2, 1, 4, 2,\n",
              "       1, 3, 4, 1, 4, 1, 3, 4, 4, 2, 4, 1, 4, 3, 4, 1, 1, 1, 3, 1, 1, 3,\n",
              "       4, 2, 3, 3, 4, 4, 3, 3, 2, 3, 2, 2, 3, 2, 1, 4, 2, 2, 1, 3, 2, 3,\n",
              "       3, 3, 1, 2, 1, 3, 1, 1, 3, 1, 4, 4, 2, 1, 1, 3, 1, 2, 2, 2, 2, 1,\n",
              "       3, 2, 2, 1, 4, 3, 3, 4, 4, 3, 2, 1, 2, 1, 4, 3, 3, 1, 1, 1, 4, 4,\n",
              "       3, 2, 3, 1, 4, 1, 1, 3, 4, 2, 4, 2, 3, 4, 3, 3, 2, 4, 3, 1, 4, 4,\n",
              "       3, 3, 3, 1, 4, 4, 4, 2, 1, 1, 3, 2, 4, 1, 3, 3, 3, 2, 3, 4, 3, 2,\n",
              "       2, 4, 1, 3, 3, 3, 4, 2, 3, 4, 3, 1, 2, 2, 1, 1, 4, 4, 3, 2, 3, 1,\n",
              "       3, 4, 3, 2, 4, 4, 2, 1, 3, 2, 1, 3, 3, 2, 3, 3, 2, 1, 1, 4, 3, 4,\n",
              "       2, 2, 2, 1, 4, 1, 2, 2, 2, 2, 3, 4, 3, 2, 2, 1, 3, 1, 3, 3, 1, 4,\n",
              "       1, 3, 4, 4, 2, 2, 3, 4, 4, 2, 4, 3, 3, 3, 1, 1, 4, 4, 4, 2, 3, 4,\n",
              "       3, 2, 3, 4, 1, 3, 1, 4, 4, 2, 3, 2, 3, 1, 1, 4, 1, 3, 3, 1, 2, 4,\n",
              "       1, 3, 4, 3, 2, 3, 3, 4, 2, 3, 1, 1, 4, 1])"
            ]
          },
          "execution_count": 43,
          "metadata": {},
          "output_type": "execute_result"
        }
      ],
      "source": [
        "y_tes"
      ]
    },
    {
      "cell_type": "markdown",
      "metadata": {
        "id": "N-5Wbhfd9iGs"
      },
      "source": [
        "**Klasifikasi Decision Tree**"
      ]
    },
    {
      "cell_type": "code",
      "execution_count": null,
      "metadata": {
        "id": "6tF7gBGo9pE8"
      },
      "outputs": [],
      "source": [
        "from sklearn.tree import DecisionTreeClassifier"
      ]
    },
    {
      "cell_type": "markdown",
      "metadata": {
        "id": "ZTRP9ACY9xlM"
      },
      "source": [
        "**1. Training atau melatih model**"
      ]
    },
    {
      "cell_type": "markdown",
      "metadata": {
        "id": "V5P3AWWz92Jk"
      },
      "source": [
        "We will first create an instance of the DecisionTreeClassifier called drugTree.\n",
        "Inside of the classifier, specify criterion=\"entropy\" so we can see the information gain of each node."
      ]
    },
    {
      "cell_type": "code",
      "execution_count": null,
      "metadata": {
        "colab": {
          "base_uri": "https://localhost:8080/",
          "height": 80
        },
        "id": "V7ef9ZJX9sQM",
        "outputId": "a795ecaf-6438-405c-ed13-66ca474a977c"
      },
      "outputs": [
        {
          "data": {
            "text/html": [
              "<style>#sk-container-id-1 {\n",
              "  /* Definition of color scheme common for light and dark mode */\n",
              "  --sklearn-color-text: #000;\n",
              "  --sklearn-color-text-muted: #666;\n",
              "  --sklearn-color-line: gray;\n",
              "  /* Definition of color scheme for unfitted estimators */\n",
              "  --sklearn-color-unfitted-level-0: #fff5e6;\n",
              "  --sklearn-color-unfitted-level-1: #f6e4d2;\n",
              "  --sklearn-color-unfitted-level-2: #ffe0b3;\n",
              "  --sklearn-color-unfitted-level-3: chocolate;\n",
              "  /* Definition of color scheme for fitted estimators */\n",
              "  --sklearn-color-fitted-level-0: #f0f8ff;\n",
              "  --sklearn-color-fitted-level-1: #d4ebff;\n",
              "  --sklearn-color-fitted-level-2: #b3dbfd;\n",
              "  --sklearn-color-fitted-level-3: cornflowerblue;\n",
              "\n",
              "  /* Specific color for light theme */\n",
              "  --sklearn-color-text-on-default-background: var(--sg-text-color, var(--theme-code-foreground, var(--jp-content-font-color1, black)));\n",
              "  --sklearn-color-background: var(--sg-background-color, var(--theme-background, var(--jp-layout-color0, white)));\n",
              "  --sklearn-color-border-box: var(--sg-text-color, var(--theme-code-foreground, var(--jp-content-font-color1, black)));\n",
              "  --sklearn-color-icon: #696969;\n",
              "\n",
              "  @media (prefers-color-scheme: dark) {\n",
              "    /* Redefinition of color scheme for dark theme */\n",
              "    --sklearn-color-text-on-default-background: var(--sg-text-color, var(--theme-code-foreground, var(--jp-content-font-color1, white)));\n",
              "    --sklearn-color-background: var(--sg-background-color, var(--theme-background, var(--jp-layout-color0, #111)));\n",
              "    --sklearn-color-border-box: var(--sg-text-color, var(--theme-code-foreground, var(--jp-content-font-color1, white)));\n",
              "    --sklearn-color-icon: #878787;\n",
              "  }\n",
              "}\n",
              "\n",
              "#sk-container-id-1 {\n",
              "  color: var(--sklearn-color-text);\n",
              "}\n",
              "\n",
              "#sk-container-id-1 pre {\n",
              "  padding: 0;\n",
              "}\n",
              "\n",
              "#sk-container-id-1 input.sk-hidden--visually {\n",
              "  border: 0;\n",
              "  clip: rect(1px 1px 1px 1px);\n",
              "  clip: rect(1px, 1px, 1px, 1px);\n",
              "  height: 1px;\n",
              "  margin: -1px;\n",
              "  overflow: hidden;\n",
              "  padding: 0;\n",
              "  position: absolute;\n",
              "  width: 1px;\n",
              "}\n",
              "\n",
              "#sk-container-id-1 div.sk-dashed-wrapped {\n",
              "  border: 1px dashed var(--sklearn-color-line);\n",
              "  margin: 0 0.4em 0.5em 0.4em;\n",
              "  box-sizing: border-box;\n",
              "  padding-bottom: 0.4em;\n",
              "  background-color: var(--sklearn-color-background);\n",
              "}\n",
              "\n",
              "#sk-container-id-1 div.sk-container {\n",
              "  /* jupyter's `normalize.less` sets `[hidden] { display: none; }`\n",
              "     but bootstrap.min.css set `[hidden] { display: none !important; }`\n",
              "     so we also need the `!important` here to be able to override the\n",
              "     default hidden behavior on the sphinx rendered scikit-learn.org.\n",
              "     See: https://github.com/scikit-learn/scikit-learn/issues/21755 */\n",
              "  display: inline-block !important;\n",
              "  position: relative;\n",
              "}\n",
              "\n",
              "#sk-container-id-1 div.sk-text-repr-fallback {\n",
              "  display: none;\n",
              "}\n",
              "\n",
              "div.sk-parallel-item,\n",
              "div.sk-serial,\n",
              "div.sk-item {\n",
              "  /* draw centered vertical line to link estimators */\n",
              "  background-image: linear-gradient(var(--sklearn-color-text-on-default-background), var(--sklearn-color-text-on-default-background));\n",
              "  background-size: 2px 100%;\n",
              "  background-repeat: no-repeat;\n",
              "  background-position: center center;\n",
              "}\n",
              "\n",
              "/* Parallel-specific style estimator block */\n",
              "\n",
              "#sk-container-id-1 div.sk-parallel-item::after {\n",
              "  content: \"\";\n",
              "  width: 100%;\n",
              "  border-bottom: 2px solid var(--sklearn-color-text-on-default-background);\n",
              "  flex-grow: 1;\n",
              "}\n",
              "\n",
              "#sk-container-id-1 div.sk-parallel {\n",
              "  display: flex;\n",
              "  align-items: stretch;\n",
              "  justify-content: center;\n",
              "  background-color: var(--sklearn-color-background);\n",
              "  position: relative;\n",
              "}\n",
              "\n",
              "#sk-container-id-1 div.sk-parallel-item {\n",
              "  display: flex;\n",
              "  flex-direction: column;\n",
              "}\n",
              "\n",
              "#sk-container-id-1 div.sk-parallel-item:first-child::after {\n",
              "  align-self: flex-end;\n",
              "  width: 50%;\n",
              "}\n",
              "\n",
              "#sk-container-id-1 div.sk-parallel-item:last-child::after {\n",
              "  align-self: flex-start;\n",
              "  width: 50%;\n",
              "}\n",
              "\n",
              "#sk-container-id-1 div.sk-parallel-item:only-child::after {\n",
              "  width: 0;\n",
              "}\n",
              "\n",
              "/* Serial-specific style estimator block */\n",
              "\n",
              "#sk-container-id-1 div.sk-serial {\n",
              "  display: flex;\n",
              "  flex-direction: column;\n",
              "  align-items: center;\n",
              "  background-color: var(--sklearn-color-background);\n",
              "  padding-right: 1em;\n",
              "  padding-left: 1em;\n",
              "}\n",
              "\n",
              "\n",
              "/* Toggleable style: style used for estimator/Pipeline/ColumnTransformer box that is\n",
              "clickable and can be expanded/collapsed.\n",
              "- Pipeline and ColumnTransformer use this feature and define the default style\n",
              "- Estimators will overwrite some part of the style using the `sk-estimator` class\n",
              "*/\n",
              "\n",
              "/* Pipeline and ColumnTransformer style (default) */\n",
              "\n",
              "#sk-container-id-1 div.sk-toggleable {\n",
              "  /* Default theme specific background. It is overwritten whether we have a\n",
              "  specific estimator or a Pipeline/ColumnTransformer */\n",
              "  background-color: var(--sklearn-color-background);\n",
              "}\n",
              "\n",
              "/* Toggleable label */\n",
              "#sk-container-id-1 label.sk-toggleable__label {\n",
              "  cursor: pointer;\n",
              "  display: flex;\n",
              "  width: 100%;\n",
              "  margin-bottom: 0;\n",
              "  padding: 0.5em;\n",
              "  box-sizing: border-box;\n",
              "  text-align: center;\n",
              "  align-items: start;\n",
              "  justify-content: space-between;\n",
              "  gap: 0.5em;\n",
              "}\n",
              "\n",
              "#sk-container-id-1 label.sk-toggleable__label .caption {\n",
              "  font-size: 0.6rem;\n",
              "  font-weight: lighter;\n",
              "  color: var(--sklearn-color-text-muted);\n",
              "}\n",
              "\n",
              "#sk-container-id-1 label.sk-toggleable__label-arrow:before {\n",
              "  /* Arrow on the left of the label */\n",
              "  content: \"▸\";\n",
              "  float: left;\n",
              "  margin-right: 0.25em;\n",
              "  color: var(--sklearn-color-icon);\n",
              "}\n",
              "\n",
              "#sk-container-id-1 label.sk-toggleable__label-arrow:hover:before {\n",
              "  color: var(--sklearn-color-text);\n",
              "}\n",
              "\n",
              "/* Toggleable content - dropdown */\n",
              "\n",
              "#sk-container-id-1 div.sk-toggleable__content {\n",
              "  max-height: 0;\n",
              "  max-width: 0;\n",
              "  overflow: hidden;\n",
              "  text-align: left;\n",
              "  /* unfitted */\n",
              "  background-color: var(--sklearn-color-unfitted-level-0);\n",
              "}\n",
              "\n",
              "#sk-container-id-1 div.sk-toggleable__content.fitted {\n",
              "  /* fitted */\n",
              "  background-color: var(--sklearn-color-fitted-level-0);\n",
              "}\n",
              "\n",
              "#sk-container-id-1 div.sk-toggleable__content pre {\n",
              "  margin: 0.2em;\n",
              "  border-radius: 0.25em;\n",
              "  color: var(--sklearn-color-text);\n",
              "  /* unfitted */\n",
              "  background-color: var(--sklearn-color-unfitted-level-0);\n",
              "}\n",
              "\n",
              "#sk-container-id-1 div.sk-toggleable__content.fitted pre {\n",
              "  /* unfitted */\n",
              "  background-color: var(--sklearn-color-fitted-level-0);\n",
              "}\n",
              "\n",
              "#sk-container-id-1 input.sk-toggleable__control:checked~div.sk-toggleable__content {\n",
              "  /* Expand drop-down */\n",
              "  max-height: 200px;\n",
              "  max-width: 100%;\n",
              "  overflow: auto;\n",
              "}\n",
              "\n",
              "#sk-container-id-1 input.sk-toggleable__control:checked~label.sk-toggleable__label-arrow:before {\n",
              "  content: \"▾\";\n",
              "}\n",
              "\n",
              "/* Pipeline/ColumnTransformer-specific style */\n",
              "\n",
              "#sk-container-id-1 div.sk-label input.sk-toggleable__control:checked~label.sk-toggleable__label {\n",
              "  color: var(--sklearn-color-text);\n",
              "  background-color: var(--sklearn-color-unfitted-level-2);\n",
              "}\n",
              "\n",
              "#sk-container-id-1 div.sk-label.fitted input.sk-toggleable__control:checked~label.sk-toggleable__label {\n",
              "  background-color: var(--sklearn-color-fitted-level-2);\n",
              "}\n",
              "\n",
              "/* Estimator-specific style */\n",
              "\n",
              "/* Colorize estimator box */\n",
              "#sk-container-id-1 div.sk-estimator input.sk-toggleable__control:checked~label.sk-toggleable__label {\n",
              "  /* unfitted */\n",
              "  background-color: var(--sklearn-color-unfitted-level-2);\n",
              "}\n",
              "\n",
              "#sk-container-id-1 div.sk-estimator.fitted input.sk-toggleable__control:checked~label.sk-toggleable__label {\n",
              "  /* fitted */\n",
              "  background-color: var(--sklearn-color-fitted-level-2);\n",
              "}\n",
              "\n",
              "#sk-container-id-1 div.sk-label label.sk-toggleable__label,\n",
              "#sk-container-id-1 div.sk-label label {\n",
              "  /* The background is the default theme color */\n",
              "  color: var(--sklearn-color-text-on-default-background);\n",
              "}\n",
              "\n",
              "/* On hover, darken the color of the background */\n",
              "#sk-container-id-1 div.sk-label:hover label.sk-toggleable__label {\n",
              "  color: var(--sklearn-color-text);\n",
              "  background-color: var(--sklearn-color-unfitted-level-2);\n",
              "}\n",
              "\n",
              "/* Label box, darken color on hover, fitted */\n",
              "#sk-container-id-1 div.sk-label.fitted:hover label.sk-toggleable__label.fitted {\n",
              "  color: var(--sklearn-color-text);\n",
              "  background-color: var(--sklearn-color-fitted-level-2);\n",
              "}\n",
              "\n",
              "/* Estimator label */\n",
              "\n",
              "#sk-container-id-1 div.sk-label label {\n",
              "  font-family: monospace;\n",
              "  font-weight: bold;\n",
              "  display: inline-block;\n",
              "  line-height: 1.2em;\n",
              "}\n",
              "\n",
              "#sk-container-id-1 div.sk-label-container {\n",
              "  text-align: center;\n",
              "}\n",
              "\n",
              "/* Estimator-specific */\n",
              "#sk-container-id-1 div.sk-estimator {\n",
              "  font-family: monospace;\n",
              "  border: 1px dotted var(--sklearn-color-border-box);\n",
              "  border-radius: 0.25em;\n",
              "  box-sizing: border-box;\n",
              "  margin-bottom: 0.5em;\n",
              "  /* unfitted */\n",
              "  background-color: var(--sklearn-color-unfitted-level-0);\n",
              "}\n",
              "\n",
              "#sk-container-id-1 div.sk-estimator.fitted {\n",
              "  /* fitted */\n",
              "  background-color: var(--sklearn-color-fitted-level-0);\n",
              "}\n",
              "\n",
              "/* on hover */\n",
              "#sk-container-id-1 div.sk-estimator:hover {\n",
              "  /* unfitted */\n",
              "  background-color: var(--sklearn-color-unfitted-level-2);\n",
              "}\n",
              "\n",
              "#sk-container-id-1 div.sk-estimator.fitted:hover {\n",
              "  /* fitted */\n",
              "  background-color: var(--sklearn-color-fitted-level-2);\n",
              "}\n",
              "\n",
              "/* Specification for estimator info (e.g. \"i\" and \"?\") */\n",
              "\n",
              "/* Common style for \"i\" and \"?\" */\n",
              "\n",
              ".sk-estimator-doc-link,\n",
              "a:link.sk-estimator-doc-link,\n",
              "a:visited.sk-estimator-doc-link {\n",
              "  float: right;\n",
              "  font-size: smaller;\n",
              "  line-height: 1em;\n",
              "  font-family: monospace;\n",
              "  background-color: var(--sklearn-color-background);\n",
              "  border-radius: 1em;\n",
              "  height: 1em;\n",
              "  width: 1em;\n",
              "  text-decoration: none !important;\n",
              "  margin-left: 0.5em;\n",
              "  text-align: center;\n",
              "  /* unfitted */\n",
              "  border: var(--sklearn-color-unfitted-level-1) 1pt solid;\n",
              "  color: var(--sklearn-color-unfitted-level-1);\n",
              "}\n",
              "\n",
              ".sk-estimator-doc-link.fitted,\n",
              "a:link.sk-estimator-doc-link.fitted,\n",
              "a:visited.sk-estimator-doc-link.fitted {\n",
              "  /* fitted */\n",
              "  border: var(--sklearn-color-fitted-level-1) 1pt solid;\n",
              "  color: var(--sklearn-color-fitted-level-1);\n",
              "}\n",
              "\n",
              "/* On hover */\n",
              "div.sk-estimator:hover .sk-estimator-doc-link:hover,\n",
              ".sk-estimator-doc-link:hover,\n",
              "div.sk-label-container:hover .sk-estimator-doc-link:hover,\n",
              ".sk-estimator-doc-link:hover {\n",
              "  /* unfitted */\n",
              "  background-color: var(--sklearn-color-unfitted-level-3);\n",
              "  color: var(--sklearn-color-background);\n",
              "  text-decoration: none;\n",
              "}\n",
              "\n",
              "div.sk-estimator.fitted:hover .sk-estimator-doc-link.fitted:hover,\n",
              ".sk-estimator-doc-link.fitted:hover,\n",
              "div.sk-label-container:hover .sk-estimator-doc-link.fitted:hover,\n",
              ".sk-estimator-doc-link.fitted:hover {\n",
              "  /* fitted */\n",
              "  background-color: var(--sklearn-color-fitted-level-3);\n",
              "  color: var(--sklearn-color-background);\n",
              "  text-decoration: none;\n",
              "}\n",
              "\n",
              "/* Span, style for the box shown on hovering the info icon */\n",
              ".sk-estimator-doc-link span {\n",
              "  display: none;\n",
              "  z-index: 9999;\n",
              "  position: relative;\n",
              "  font-weight: normal;\n",
              "  right: .2ex;\n",
              "  padding: .5ex;\n",
              "  margin: .5ex;\n",
              "  width: min-content;\n",
              "  min-width: 20ex;\n",
              "  max-width: 50ex;\n",
              "  color: var(--sklearn-color-text);\n",
              "  box-shadow: 2pt 2pt 4pt #999;\n",
              "  /* unfitted */\n",
              "  background: var(--sklearn-color-unfitted-level-0);\n",
              "  border: .5pt solid var(--sklearn-color-unfitted-level-3);\n",
              "}\n",
              "\n",
              ".sk-estimator-doc-link.fitted span {\n",
              "  /* fitted */\n",
              "  background: var(--sklearn-color-fitted-level-0);\n",
              "  border: var(--sklearn-color-fitted-level-3);\n",
              "}\n",
              "\n",
              ".sk-estimator-doc-link:hover span {\n",
              "  display: block;\n",
              "}\n",
              "\n",
              "/* \"?\"-specific style due to the `<a>` HTML tag */\n",
              "\n",
              "#sk-container-id-1 a.estimator_doc_link {\n",
              "  float: right;\n",
              "  font-size: 1rem;\n",
              "  line-height: 1em;\n",
              "  font-family: monospace;\n",
              "  background-color: var(--sklearn-color-background);\n",
              "  border-radius: 1rem;\n",
              "  height: 1rem;\n",
              "  width: 1rem;\n",
              "  text-decoration: none;\n",
              "  /* unfitted */\n",
              "  color: var(--sklearn-color-unfitted-level-1);\n",
              "  border: var(--sklearn-color-unfitted-level-1) 1pt solid;\n",
              "}\n",
              "\n",
              "#sk-container-id-1 a.estimator_doc_link.fitted {\n",
              "  /* fitted */\n",
              "  border: var(--sklearn-color-fitted-level-1) 1pt solid;\n",
              "  color: var(--sklearn-color-fitted-level-1);\n",
              "}\n",
              "\n",
              "/* On hover */\n",
              "#sk-container-id-1 a.estimator_doc_link:hover {\n",
              "  /* unfitted */\n",
              "  background-color: var(--sklearn-color-unfitted-level-3);\n",
              "  color: var(--sklearn-color-background);\n",
              "  text-decoration: none;\n",
              "}\n",
              "\n",
              "#sk-container-id-1 a.estimator_doc_link.fitted:hover {\n",
              "  /* fitted */\n",
              "  background-color: var(--sklearn-color-fitted-level-3);\n",
              "}\n",
              "</style><div id=\"sk-container-id-1\" class=\"sk-top-container\"><div class=\"sk-text-repr-fallback\"><pre>DecisionTreeClassifier(criterion=&#x27;entropy&#x27;, random_state=0)</pre><b>In a Jupyter environment, please rerun this cell to show the HTML representation or trust the notebook. <br />On GitHub, the HTML representation is unable to render, please try loading this page with nbviewer.org.</b></div><div class=\"sk-container\" hidden><div class=\"sk-item\"><div class=\"sk-estimator fitted sk-toggleable\"><input class=\"sk-toggleable__control sk-hidden--visually\" id=\"sk-estimator-id-1\" type=\"checkbox\" checked><label for=\"sk-estimator-id-1\" class=\"sk-toggleable__label fitted sk-toggleable__label-arrow\"><div><div>DecisionTreeClassifier</div></div><div><a class=\"sk-estimator-doc-link fitted\" rel=\"noreferrer\" target=\"_blank\" href=\"https://scikit-learn.org/1.6/modules/generated/sklearn.tree.DecisionTreeClassifier.html\">?<span>Documentation for DecisionTreeClassifier</span></a><span class=\"sk-estimator-doc-link fitted\">i<span>Fitted</span></span></div></label><div class=\"sk-toggleable__content fitted\"><pre>DecisionTreeClassifier(criterion=&#x27;entropy&#x27;, random_state=0)</pre></div> </div></div></div></div>"
            ],
            "text/plain": [
              "DecisionTreeClassifier(criterion='entropy', random_state=0)"
            ]
          },
          "execution_count": 45,
          "metadata": {},
          "output_type": "execute_result"
        }
      ],
      "source": [
        "model_dt = DecisionTreeClassifier(criterion = 'entropy', random_state = 0)\n",
        "model_dt.fit(X_train, y_train)"
      ]
    },
    {
      "cell_type": "markdown",
      "metadata": {
        "id": "MHghHShf-MhR"
      },
      "source": [
        "**2. Prediksi data testing**"
      ]
    },
    {
      "cell_type": "code",
      "execution_count": null,
      "metadata": {
        "colab": {
          "base_uri": "https://localhost:8080/"
        },
        "id": "XZbtwmlo-TAL",
        "outputId": "7b2802fb-ce88-44a5-b95c-9000d9cadb18"
      },
      "outputs": [
        {
          "data": {
            "text/plain": [
              "array([3, 3, 1, 4, 1])"
            ]
          },
          "execution_count": 46,
          "metadata": {},
          "output_type": "execute_result"
        }
      ],
      "source": [
        "predTree = model_dt.predict(X_tes)\n",
        "predTree[0:5]"
      ]
    },
    {
      "cell_type": "code",
      "execution_count": null,
      "metadata": {
        "colab": {
          "base_uri": "https://localhost:8080/"
        },
        "id": "r09CSuUt-cuL",
        "outputId": "5dcadb4a-5a48-449e-abbb-0d91880778e9"
      },
      "outputs": [
        {
          "name": "stdout",
          "output_type": "stream",
          "text": [
            "[3 3 1 4 1]\n",
            "[3 3 1 4 1]\n"
          ]
        }
      ],
      "source": [
        "print (predTree[0:5])\n",
        "print (y_tes[0:5])"
      ]
    },
    {
      "cell_type": "markdown",
      "metadata": {
        "id": "UseawFga--i7"
      },
      "source": [
        "**3. Evaluasi Akurasi Model**"
      ]
    },
    {
      "cell_type": "markdown",
      "metadata": {
        "id": "4sM-eCWI_BzL"
      },
      "source": [
        "In multilabel classification, accuracy classification score is a function that computes subset accuracy. This function is equal to the jaccard_score function. Essentially, it calculates how closely the actual labels and predicted labels are matched in the test set."
      ]
    },
    {
      "cell_type": "code",
      "execution_count": null,
      "metadata": {
        "colab": {
          "base_uri": "https://localhost:8080/"
        },
        "id": "UdfVss6h_F3E",
        "outputId": "2ba697ea-18ce-4fb2-e604-ef50e27b6285"
      },
      "outputs": [
        {
          "name": "stdout",
          "output_type": "stream",
          "text": [
            "DecisionTrees's Accuracy:  1.0\n"
          ]
        }
      ],
      "source": [
        "from sklearn import metrics\n",
        "import matplotlib.pyplot as plt\n",
        "print(\"DecisionTrees's Accuracy: \", metrics.accuracy_score(y_tes, predTree))"
      ]
    }
  ],
  "metadata": {
    "colab": {
      "provenance": [],
      "include_colab_link": true
    },
    "kernelspec": {
      "display_name": "Python 3",
      "name": "python3"
    },
    "language_info": {
      "codemirror_mode": {
        "name": "ipython",
        "version": 3
      },
      "file_extension": ".py",
      "mimetype": "text/x-python",
      "name": "python",
      "nbconvert_exporter": "python",
      "pygments_lexer": "ipython3",
      "version": "3.11.9"
    }
  },
  "nbformat": 4,
  "nbformat_minor": 0
}